{
 "cells": [
  {
   "cell_type": "code",
   "execution_count": 28,
   "metadata": {},
   "outputs": [],
   "source": [
    "import requests\n",
    "import pandas as pd\n",
    "\n",
    "API_KEY = '3d5fadd8030f84601aab7fcda34faefa'\n",
    "BASE_URL = 'http://ws.audioscrobbler.com/2.0/'\n",
    "TAG = 'pop'\n",
    "LIMIT = 20"
   ]
  },
  {
   "cell_type": "code",
   "execution_count": 32,
   "metadata": {},
   "outputs": [],
   "source": [
    "res_artists = requests.get(BASE_URL, params={\n",
    "    'method': 'tag.gettopartists',\n",
    "    'tag': TAG,\n",
    "    'api_key': API_KEY,\n",
    "    'format': 'json',\n",
    "    'limit': 10\n",
    "})\n",
    "\n",
    "top_artists = [artist['name'] for artist in res_artists.json()['topartists']['artist']]\n"
   ]
  },
  {
   "cell_type": "code",
   "execution_count": 33,
   "metadata": {},
   "outputs": [],
   "source": [
    "res_tracks = requests.get(BASE_URL, params={\n",
    "    'method': 'tag.gettoptracks',\n",
    "    'tag': TAG,\n",
    "    'api_key': API_KEY,\n",
    "    'format': 'json',\n",
    "    'limit': 10\n",
    "})\n",
    "\n",
    "top_tracks = [track['name'] for track in res_tracks.json()['tracks']['track']]\n"
   ]
  },
  {
   "cell_type": "code",
   "execution_count": 34,
   "metadata": {},
   "outputs": [],
   "source": [
    "res_albums = requests.get(BASE_URL, params={\n",
    "    'method': 'tag.gettopalbums',\n",
    "    'tag': TAG,\n",
    "    'api_key': API_KEY,\n",
    "    'format': 'json',\n",
    "    'limit': 10\n",
    "})\n",
    "\n",
    "top_albums = [album['name'] for album in res_albums.json()['albums']['album']]\n"
   ]
  },
  {
   "cell_type": "code",
   "execution_count": 35,
   "metadata": {},
   "outputs": [
    {
     "data": {
      "text/html": [
       "<div>\n",
       "<style scoped>\n",
       "    .dataframe tbody tr th:only-of-type {\n",
       "        vertical-align: middle;\n",
       "    }\n",
       "\n",
       "    .dataframe tbody tr th {\n",
       "        vertical-align: top;\n",
       "    }\n",
       "\n",
       "    .dataframe thead th {\n",
       "        text-align: right;\n",
       "    }\n",
       "</style>\n",
       "<table border=\"1\" class=\"dataframe\">\n",
       "  <thead>\n",
       "    <tr style=\"text-align: right;\">\n",
       "      <th></th>\n",
       "      <th>Top Artists</th>\n",
       "      <th>Top Tracks</th>\n",
       "      <th>Top Albums</th>\n",
       "    </tr>\n",
       "  </thead>\n",
       "  <tbody>\n",
       "    <tr>\n",
       "      <th>0</th>\n",
       "      <td>Ariana Grande</td>\n",
       "      <td>Feel Good Inc.</td>\n",
       "      <td>Golden</td>\n",
       "    </tr>\n",
       "    <tr>\n",
       "      <th>1</th>\n",
       "      <td>Billie Eilish</td>\n",
       "      <td>Yellow</td>\n",
       "      <td>Thank U, Next</td>\n",
       "    </tr>\n",
       "    <tr>\n",
       "      <th>2</th>\n",
       "      <td>Lady Gaga</td>\n",
       "      <td>Poker Face</td>\n",
       "      <td>Sweetener</td>\n",
       "    </tr>\n",
       "    <tr>\n",
       "      <th>3</th>\n",
       "      <td>V</td>\n",
       "      <td>Viva la Vida</td>\n",
       "      <td>Dangerous Woman</td>\n",
       "    </tr>\n",
       "    <tr>\n",
       "      <th>4</th>\n",
       "      <td>Charli XCX</td>\n",
       "      <td>The Scientist</td>\n",
       "      <td>1989 (Deluxe)</td>\n",
       "    </tr>\n",
       "    <tr>\n",
       "      <th>5</th>\n",
       "      <td>Olivia Rodrigo</td>\n",
       "      <td>Billie Jean</td>\n",
       "      <td>Anti (Deluxe)</td>\n",
       "    </tr>\n",
       "    <tr>\n",
       "      <th>6</th>\n",
       "      <td>Sabrina Carpenter</td>\n",
       "      <td>Bad Romance</td>\n",
       "      <td>The Tortured Poets Department</td>\n",
       "    </tr>\n",
       "    <tr>\n",
       "      <th>7</th>\n",
       "      <td>Rihanna</td>\n",
       "      <td>Kids</td>\n",
       "      <td>For All the Dogs</td>\n",
       "    </tr>\n",
       "    <tr>\n",
       "      <th>8</th>\n",
       "      <td>Doja Cat</td>\n",
       "      <td>Toxic</td>\n",
       "      <td>Butter / Permission to Dance</td>\n",
       "    </tr>\n",
       "    <tr>\n",
       "      <th>9</th>\n",
       "      <td>Harry Styles</td>\n",
       "      <td>Pumped Up Kicks</td>\n",
       "      <td>Teenage Dream</td>\n",
       "    </tr>\n",
       "  </tbody>\n",
       "</table>\n",
       "</div>"
      ],
      "text/plain": [
       "         Top Artists       Top Tracks                     Top Albums\n",
       "0      Ariana Grande   Feel Good Inc.                         Golden\n",
       "1      Billie Eilish           Yellow                  Thank U, Next\n",
       "2          Lady Gaga       Poker Face                      Sweetener\n",
       "3                  V     Viva la Vida                Dangerous Woman\n",
       "4         Charli XCX    The Scientist                  1989 (Deluxe)\n",
       "5     Olivia Rodrigo      Billie Jean                  Anti (Deluxe)\n",
       "6  Sabrina Carpenter      Bad Romance  The Tortured Poets Department\n",
       "7            Rihanna             Kids               For All the Dogs\n",
       "8           Doja Cat            Toxic   Butter / Permission to Dance\n",
       "9       Harry Styles  Pumped Up Kicks                  Teenage Dream"
      ]
     },
     "execution_count": 35,
     "metadata": {},
     "output_type": "execute_result"
    }
   ],
   "source": [
    "df = pd.DataFrame({\n",
    "    'Top Artists': top_artists,\n",
    "    'Top Tracks': top_tracks,\n",
    "    'Top Albums': top_albums\n",
    "})\n",
    "\n",
    "df\n"
   ]
  },
  {
   "cell_type": "code",
   "execution_count": null,
   "metadata": {},
   "outputs": [],
   "source": []
  }
 ],
 "metadata": {
  "kernelspec": {
   "display_name": "Python 3",
   "language": "python",
   "name": "python3"
  },
  "language_info": {
   "codemirror_mode": {
    "name": "ipython",
    "version": 3
   },
   "file_extension": ".py",
   "mimetype": "text/x-python",
   "name": "python",
   "nbconvert_exporter": "python",
   "pygments_lexer": "ipython3",
   "version": "3.11.9"
  }
 },
 "nbformat": 4,
 "nbformat_minor": 2
}
